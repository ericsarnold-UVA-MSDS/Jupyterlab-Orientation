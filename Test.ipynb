{
 "cells": [
  {
   "cell_type": "code",
   "execution_count": 1,
   "id": "9c68aee6-dfa7-4001-ab16-8699387b8f0d",
   "metadata": {},
   "outputs": [],
   "source": [
    "# Test for workflow"
   ]
  },
  {
   "cell_type": "code",
   "execution_count": 3,
   "id": "dc5fb59e-e3ed-4bde-9bd4-4c82c0e8e74f",
   "metadata": {},
   "outputs": [
    {
     "name": "stdout",
     "output_type": "stream",
     "text": [
      "Hello Github!\n"
     ]
    }
   ],
   "source": [
    "print('Hello Github!')"
   ]
  },
  {
   "cell_type": "code",
   "execution_count": null,
   "id": "2cc0ec8f-e0c0-4091-9104-85be37fcba30",
   "metadata": {},
   "outputs": [],
   "source": []
  }
 ],
 "metadata": {
  "kernelspec": {
   "display_name": "Python 3 (ipykernel)",
   "language": "python",
   "name": "python3"
  },
  "language_info": {
   "codemirror_mode": {
    "name": "ipython",
    "version": 3
   },
   "file_extension": ".py",
   "mimetype": "text/x-python",
   "name": "python",
   "nbconvert_exporter": "python",
   "pygments_lexer": "ipython3",
   "version": "3.11.7"
  }
 },
 "nbformat": 4,
 "nbformat_minor": 5
}
